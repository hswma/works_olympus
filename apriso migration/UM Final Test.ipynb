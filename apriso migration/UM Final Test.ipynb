{
 "cells": [
  {
   "cell_type": "code",
   "execution_count": 1,
   "id": "6d79f8c6",
   "metadata": {},
   "outputs": [],
   "source": [
    "import pandas as pd\n",
    "import os\n",
    "import re\n",
    "import warnings"
   ]
  },
  {
   "cell_type": "code",
   "execution_count": 2,
   "id": "92a7c7cf",
   "metadata": {},
   "outputs": [
    {
     "name": "stdout",
     "output_type": "stream",
     "text": [
      "finished\n"
     ]
    }
   ],
   "source": [
    "file_path = 'C:/Users/htet.ma\\\\Downloads\\\\UM Inspected'\n",
    "file_names = os.listdir(file_path)\n",
    "\n",
    "# all_sheets = {}\n",
    "all_sheets_xls = []\n",
    "\n",
    "for name in file_names:\n",
    "    first_sheet = pd.read_excel(file_path + \"\\\\\" + str(name), sheet_name=0, header=0, skiprows=[1])\n",
    "    all_sheets_xls.append(first_sheet)\n",
    "\n",
    "combined_xls = pd.concat(all_sheets_xls, ignore_index=True)\n",
    "\n",
    "print(f'finished')"
   ]
  },
  {
   "cell_type": "code",
   "execution_count": 3,
   "id": "166a7415",
   "metadata": {},
   "outputs": [],
   "source": [
    "# dictionary\n",
    "# Is UC the same as UCT? If yes, GF-UCT180 need 503X.08\n",
    "um_cell8 = {'BF-UC190F':['503X.05', '503X.06', 'N/A', '509A.26', '503X.09'],\n",
    "             'BF-UC180F':['503X.05', '503X.06', 'N/A', '509A.26', '503X.09'], \n",
    "             'BF-UC180F-A':['503X.05', '503X.06', 'N/A', '509A.26', '503X.09'],\n",
    "             'GF-UCT180':['503X.05', '503X.06', '503X.08', '509A.26', '503X.09'],\n",
    "             'TGF-UC180J':['503X.05', '3032W.02', '503X.08', '509A.26', '503X.09'],\n",
    "             'GF-UE160-AL5':['N/A', 'N/A', 'N/A', '509A.26', '503X.09'],\n",
    "             'GF-UC140P-AL5':['N/A', 'N/A', '503X.08', '509A.26', '503X.09'],\n",
    "             'Everything': ['N/A', 'N/A', 'N/A', 'N/A', 'N/A']}\n",
    "\n",
    "um_cell6 = {'BF-UC190F':['508I.44', '509A.18', '509A.21', '508I.53', '509A.24', '508F.26', '508I.43', '509A.23', '508I.52', '509A.29', '503X.02', 'N/A', '503X.15', 'N/A', '503X.11', 'RNI20007', 'N/A', 'N/A', '404P.04', 'ECU10006'],\n",
    "            'BF-UC180F':['508I.44', '509A.18', '509A.21', '508I.53', '509A.24', '508F.26', '508I.43', '509A.23', '508I.52', '509A.29', '503X.02', 'N/A', '3003P.41', 'N/A', '3003P.53', '3001W.09', '611G.06', '611G.07', '404P.04', 'ECU10005'], \n",
    "            'BF-UC180F-A':['508I.44', '509A.18', '509A.21', '508I.53', '509A.24', '508F.26', '508I.43', '509A.23', '508I.52', '509A.29', '503X.02', 'N/A', '3003P.41', 'N/A', '3003P.53', '3001W.09', '611G.06', '611G.07', '404P.04', 'ECU10005'],\n",
    "            'GF-UCT180':['508I.44', '509A.18', '509A.21', '508I.53', '509A.24', '508F.26', '508I.43', '509A.23', '508I.52', '509A.29', '503X.02', '501P.03', 'N/A', '3018B.11', 'N/A', '3001W.09', '611G.06', '611G.07', '404P.04', 'ECU10005'],\n",
    "            'TGF-UC180J':['508I.44', '509A.18', '509A.21', '508I.53', '509A.24', '508F.26', '508I.43', '509A.23', '508I.52', '509A.29', '503X.02', '501P.03', 'EUC10001', 'EUN10001', 'EUI10001', '3001W.09', '611G.06', '611G.07', '404P.04', 'N/A'],\n",
    "            'GF-UE160-AL5':['508I.44', '509A.18', '509A.21', '508I.53', '509A.24', '508F.26', '508I.43', '509A.23', '508I.52', '509A.29', '503X.02', 'N/A', '304R.72', '508H.05', '304R.43', '3001W.09', '611G.06', '611G.07', '404P.04', 'N/A'],\n",
    "            'GF-UC140P-AL5':['508I.44', '509A.18', '509A.21', '508I.53', '509A.24', '508F.26', '508I.43', '509A.23', '508I.52', '509A.29', '503X.02', '501P.03', 'N/A', '508H.05', '304R.40', '3001W.09', '611G.06', '611G.07', '404P.04', 'N/A'],\n",
    "            'Everything':['N/A', 'N/A', 'N/A', 'N/A', 'N/A', 'N/A', 'N/A', 'N/A', 'N/A', 'N/A', 'N/A', 'N/A', 'N/A', 'N/A', 'N/A', 'N/A', 'N/A', 'N/A', 'N/A', 'N/A']}\n",
    "\n",
    "um_refurb = {'BF-UC180F': ['304R.53', '503X.09', '509A.26', '508I.52', '502H.14', '509A.50', 'N/A', '508I.44', '3003P.43', '611G.07', '503X.05', '3003P.41', 'N/A', '503X.06', '3003P.53'], \n",
    "              'BF-UC180F-A': ['304R.53', '503X.09', '509A.26', '508I.52', '502H.14', '509A.50', 'N/A', '508I.44', '3003P.43', '611G.07', '503X.05', '3003P.41', 'N/A', '503X.06', '3003P.53'],\n",
    "              'BF-UC190F': ['304R.53', '503X.09', '509A.26', '508I.52', '3014H.07', '509A.50', 'N/A', '508I.44', '3003P.43', 'RNI20007', '503X.05', '503X.15', 'N/A', '503X.06', '503X.11'],\n",
    "              'GF-UC140P-AL5': ['304R.53', '503X.09', '509A.26', '508I.52', '502H.14', '509A.50', '503X.08', '508I.44', '304R.49', '3001W.09', 'N/A', 'N/A', 'N/A', '503X.06', 'N/A'],\n",
    "              'GF-UCT180': ['304R.53', '503X.09', '509A.26', '508I.52', '502H.14', '509A.50', 'N/A', '508I.44', '304R.49A', '3001W.09', '503X.05', 'N/A', 'N/A', 'N/A', '3018B.11'],\n",
    "              'GF-UE160-AL5': ['304R.53', '503X.09', '509A.26', '508I.52', '502H.14', '509A.50', 'N/A', '508I.44', '304R.49', '3001W.09', 'N/A', 'N/A', '304R.72', 'N/A', 'N/A'],\n",
    "              'TGF-UC180J': ['304R.53', '503X.09', '509A.26', '508I.52', '502H.14', '509A.50', '503X.08', '508I.44', '304R.49', '3001W.09', '503X.05', 'N/A', '503X.15', '3032W.02', 'N/A'],\n",
    "              'Everything': ['N/A', 'N/A', 'N/A', 'N/A', 'N/A', 'N/A', 'N/A', 'N/A', 'N/A', 'N/A', 'N/A', 'N/A', 'N/A', 'N/A', 'N/A']}"
   ]
  },
  {
   "cell_type": "code",
   "execution_count": 4,
   "id": "fb49544f",
   "metadata": {},
   "outputs": [],
   "source": [
    "def get_chapters(model_generation, dictionary_group, group_repair):\n",
    "    chapters = []\n",
    "    \n",
    "    if model_generation in dictionary_group.keys():\n",
    "        for value in dictionary_group[model_generation]:\n",
    "            if value in group_repair['Work Instruction Document Number '].values:\n",
    "                chapters.append(0)\n",
    "            else:\n",
    "                chapters.append(value)\n",
    "    else:\n",
    "        for value in dictionary_group['Everything']:\n",
    "            if value in group_repair['Work Instruction Document Number '].values:\n",
    "                chapters.append(0)\n",
    "            else:\n",
    "                chapters.append(value)\n",
    "            \n",
    "    return chapters"
   ]
  },
  {
   "cell_type": "code",
   "execution_count": 5,
   "id": "5ea1368a",
   "metadata": {},
   "outputs": [],
   "source": [
    "def get_model(model_name, method):\n",
    "    if method == 'type': #GIF, CF, etc.\n",
    "        if '-' in model_name:\n",
    "            split = model_name.split('-')\n",
    "            return split[0]\n",
    "        else:\n",
    "            return model_name\n",
    "    elif method == 'generation': # 170, 190\n",
    "        for index, char in enumerate(model_name):\n",
    "            if char == '-':\n",
    "                split = model_name.split('-')\n",
    "                split_num = re.findall(r'\\d+', split[1])\n",
    "                if split_num:\n",
    "                    return split_num[0]\n",
    "                else:\n",
    "                    return split[1]\n",
    "    elif method == 'entire model': #GIF-H190DL\n",
    "        return model_name\n",
    "    else:\n",
    "        return print('Method is not written')"
   ]
  },
  {
   "cell_type": "code",
   "execution_count": 6,
   "id": "11cbdaa7",
   "metadata": {},
   "outputs": [
    {
     "name": "stdout",
     "output_type": "stream",
     "text": [
      "finished\n"
     ]
    }
   ],
   "source": [
    "#Cell 8 \n",
    "with warnings.catch_warnings():\n",
    "    warnings.simplefilter(\"ignore\")\n",
    "    filtering_repair = combined_xls[(combined_xls['OperationName'] == 'Repair') & (~combined_xls['LaborCode'].isin(['209A', '202A', '23A', '23N', '92A', '92H', '93A', '13A', '137C', '137D', '137E', '137F', '137I']))]\n",
    "\n",
    "    groupping_repair = filtering_repair.groupby(['ModelFamily', 'ModelNo', 'LaborCode'])\n",
    "\n",
    "    repair_checks = pd.DataFrame(columns=['Family', 'Model', 'LaborCode', '1', '2', '3', '4', '5'])\n",
    "\n",
    "    for group_key, group_repair in groupping_repair:\n",
    "    #     print(\"Group Key:\", group_key)\n",
    "    #     print(group_repair)\n",
    "    #     print()\n",
    "\n",
    "        model_number = get_model(group_key[1], 'entire model')\n",
    "\n",
    "        missing_chapters = get_chapters(model_number, um_cell8, group_repair)\n",
    "\n",
    "        together = [group_key[0]] + [group_key[1]] + [group_key[2]] + missing_chapters\n",
    "        repair_checks = repair_checks.append(pd.Series(together, index=repair_checks.columns), ignore_index=True)\n",
    "\n",
    "    print(f'finished')"
   ]
  },
  {
   "cell_type": "code",
   "execution_count": 7,
   "id": "d4dfcadd",
   "metadata": {},
   "outputs": [
    {
     "name": "stdout",
     "output_type": "stream",
     "text": [
      "finished\n"
     ]
    }
   ],
   "source": [
    "#cell 6\n",
    "with warnings.catch_warnings():\n",
    "    warnings.simplefilter(\"ignore\")\n",
    "    filtering_repair = combined_xls[(combined_xls['OperationName'] == 'Repair') & (combined_xls['LaborCode'].isin(['01A', '05A','11A','14A','15N','16G','204A','80A','81A']))]\n",
    "\n",
    "    groupping_repair = filtering_repair.groupby(['ModelFamily', 'ModelNo', 'LaborCode'])\n",
    "\n",
    "    repair_checks_cell6 = pd.DataFrame(columns=['Family', 'Model', 'LaborCode', '1', '2', '3', '4', '5', '6', '7', '8', '9', '10', '11', '12', '13', '14', '15', '16', '17', '18', '19', '20'])\n",
    "\n",
    "    for group_key, group_repair in groupping_repair:\n",
    "\n",
    "        model_number = get_model(group_key[1], 'entire model')\n",
    "\n",
    "        missing_chapters = get_chapters(model_number, um_cell6, group_repair)\n",
    "\n",
    "        together = [group_key[0]] + [group_key[1]] + [group_key[2]] + missing_chapters\n",
    "        repair_checks_cell6 = repair_checks_cell6.append(pd.Series(together, index=repair_checks_cell6.columns), ignore_index=True)\n",
    "\n",
    "    print(f'finished')"
   ]
  },
  {
   "cell_type": "code",
   "execution_count": 8,
   "id": "3b579f50",
   "metadata": {},
   "outputs": [
    {
     "name": "stdout",
     "output_type": "stream",
     "text": [
      "finished\n"
     ]
    }
   ],
   "source": [
    "umrepair_final = pd.merge(repair_checks, repair_checks_cell6, on=['Family', 'Model', 'LaborCode'], how='outer', indicator=True)\n",
    "\n",
    "output_file_path = 'C:/Users/htet.ma\\\\Downloads\\\\umrepair_final.xlsx'\n",
    "umrepair_final.to_excel(output_file_path, index=False)\n",
    "\n",
    "print(f'finished')"
   ]
  },
  {
   "cell_type": "code",
   "execution_count": 9,
   "id": "e6160ba5",
   "metadata": {},
   "outputs": [
    {
     "name": "stdout",
     "output_type": "stream",
     "text": [
      "finished\n"
     ]
    }
   ],
   "source": [
    "#Refurb\n",
    "with warnings.catch_warnings():\n",
    "    warnings.simplefilter(\"ignore\")\n",
    "    filtering = combined_xls[(combined_xls['OperationName'] == 'Assembly') & (combined_xls['LaborCode'].isin(['28A', '28D', '28F']))]\n",
    "\n",
    "    groupping = filtering.groupby(['ModelFamily', 'ModelNo', 'LaborCode'])\n",
    "\n",
    "    refurb_checks = pd.DataFrame(columns=['Family', 'Model', 'LaborCode', '1', '2', '3', '4', '5', '6', '7', '8', '9', '10', '11', '12', '13', '14', '15'])\n",
    "\n",
    "    for group_key, group_repair in groupping:\n",
    "    #     print(\"Group Key:\", group_key)\n",
    "    #     print(group_repair)\n",
    "    #     print()\n",
    "\n",
    "        model_number = get_model(group_key[1], 'entire model')\n",
    "\n",
    "        missing_chapters = get_chapters(model_number, um_refurb, group_repair)\n",
    "\n",
    "        together = [group_key[0]] + [group_key[1]] + [group_key[2]] + missing_chapters\n",
    "        refurb_checks = refurb_checks.append(pd.Series(together, index=refurb_checks.columns), ignore_index=True)\n",
    "\n",
    "    print(f'finished')"
   ]
  },
  {
   "cell_type": "code",
   "execution_count": 10,
   "id": "30882af5",
   "metadata": {},
   "outputs": [
    {
     "name": "stdout",
     "output_type": "stream",
     "text": [
      "finished\n"
     ]
    }
   ],
   "source": [
    "output_file_path = 'C:/Users/htet.ma\\\\Downloads\\\\umrefurbishment_final.xlsx'\n",
    "refurb_checks.to_excel(output_file_path, index=False)\n",
    "\n",
    "print(f'finished')"
   ]
  },
  {
   "cell_type": "code",
   "execution_count": null,
   "id": "e46b2f95",
   "metadata": {},
   "outputs": [],
   "source": []
  }
 ],
 "metadata": {
  "kernelspec": {
   "display_name": "Python 3 (ipykernel)",
   "language": "python",
   "name": "python3"
  },
  "language_info": {
   "codemirror_mode": {
    "name": "ipython",
    "version": 3
   },
   "file_extension": ".py",
   "mimetype": "text/x-python",
   "name": "python",
   "nbconvert_exporter": "python",
   "pygments_lexer": "ipython3",
   "version": "3.9.12"
  }
 },
 "nbformat": 4,
 "nbformat_minor": 5
}
