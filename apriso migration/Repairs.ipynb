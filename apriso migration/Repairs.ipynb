{
 "cells": [
  {
   "cell_type": "code",
   "execution_count": 1,
   "id": "67bdde63",
   "metadata": {},
   "outputs": [],
   "source": [
    "import pandas as pd\n",
    "import os\n",
    "import re\n",
    "import warnings"
   ]
  },
  {
   "cell_type": "code",
   "execution_count": 2,
   "id": "51f3bba8",
   "metadata": {},
   "outputs": [
    {
     "name": "stdout",
     "output_type": "stream",
     "text": [
      "finished\n"
     ]
    }
   ],
   "source": [
    "file_path = 'C:/Users/htet.ma\\\\Downloads\\\\MP Inspected'\n",
    "file_names = os.listdir(file_path)\n",
    "\n",
    "# all_sheets = {}\n",
    "all_sheets_xls = []\n",
    "\n",
    "for name in file_names:\n",
    "    first_sheet = pd.read_excel(file_path + \"\\\\\" + str(name), sheet_name=0, header=0, skiprows=[1])\n",
    "    # csv_filename = os.path.splitext(name)[0] + '.csv'  # Create the corresponding CSV filename\n",
    "    # first_sheet.to_csv(csv_filename, index=False)  # Save the sheet as a CSV file\n",
    "    all_sheets_xls.append(first_sheet)\n",
    "#     all_sheets[name] = first_sheet\n",
    "\n",
    "combined_xls = pd.concat(all_sheets_xls, ignore_index=True)\n",
    "\n",
    "print(f'finished')"
   ]
  },
  {
   "cell_type": "code",
   "execution_count": 40,
   "id": "56497fac",
   "metadata": {},
   "outputs": [
    {
     "name": "stdout",
     "output_type": "stream",
     "text": [
      "finished\n"
     ]
    }
   ],
   "source": [
    "# Dictionary\n",
    "\n",
    "# Repair\n",
    "repair_all = {'Everything': ['509A.14', '513E.01', '509A.26', '1509A.06', '1509A.04', '1509A.05', '513A.01']}\n",
    "repair_cell = {'170': ['504A.19', '508I.52', '508I.53', '508I.44', '509A.18', 'RAG10003', 'RDI10004'], \n",
    "              '190': ['504A.19', '508I.52', '508I.53', '508I.44', '509A.18', 'RAG10003', 'RDI10004'], \n",
    "              '1100': ['504A.19', '508I.52', '508I.53', '508I.44', '509A.18', 'RAG10010', 'RDI10008'], \n",
    "              '1500': ['504A.19', '508I.52', '508I.53', '508I.44', '509A.18', 'RAG10010', 'RDI10008'], \n",
    "              'Everything': ['504A.19', '508I.52', '508I.53', '508I.44', '509A.18', '3001E.22', '404P.04']}\n",
    "\n",
    "# Refurbishment\n",
    "refurb = {'TJF': ['509A.21', '508I.53', '513E.01', '509A.26', '508I.52', '502H.14', '513A.01', '508I.44', '509A.18', '3000R.29', '509A.17'], \n",
    "          'JF': ['509A.21', '508I.53', '513E.01', '509A.26', '508I.52', '502H.14', '513A.01', '508I.44', '509A.18', '3000R.29', '509A.17'], \n",
    "          'PJF': ['509A.21', '508I.53', '513E.01', '509A.26', '508I.52', '502H.14', '513A.01', '508I.44', '509A.18', '3000R.29', '509A.17'], \n",
    "          'Everything': ['509A.21', '508I.53', '513E.01', '509A.26', '508I.52', '502H.14', '513A.01', '508I.44', '509A.18', 'N/AForceps', 'N/APull']}\n",
    "\n",
    "print(f'finished')"
   ]
  },
  {
   "cell_type": "code",
   "execution_count": 4,
   "id": "734878ca",
   "metadata": {},
   "outputs": [],
   "source": [
    "def get_chapters(model_generation, dictionary_group, group_repair):\n",
    "    chapters = []\n",
    "    \n",
    "    if model_generation in dictionary_group.keys():\n",
    "        for value in dictionary_group[model_generation]:\n",
    "            if value in group_repair['Work Instruction Document Number '].values:\n",
    "                chapters.append(0)\n",
    "            else:\n",
    "                chapters.append(value)\n",
    "    else:\n",
    "        for value in dictionary_group['Everything']:\n",
    "            if value in group_repair['Work Instruction Document Number '].values:\n",
    "                chapters.append(0)\n",
    "            else:\n",
    "                chapters.append(value)\n",
    "            \n",
    "    return chapters"
   ]
  },
  {
   "cell_type": "code",
   "execution_count": 5,
   "id": "ba06fbcb",
   "metadata": {},
   "outputs": [],
   "source": [
    "def get_model(model_name):\n",
    "    for index, char in enumerate(model_name):\n",
    "        if char == '-':\n",
    "            split = model_name.split('-')\n",
    "            split_num = re.findall(r'\\d+', split[1])\n",
    "            if split_num:\n",
    "                return split_num[0]\n",
    "            else:\n",
    "                return split[1]\n",
    "    return model_name"
   ]
  },
  {
   "cell_type": "code",
   "execution_count": 6,
   "id": "97cdff82",
   "metadata": {},
   "outputs": [
    {
     "name": "stdout",
     "output_type": "stream",
     "text": [
      "finished\n"
     ]
    }
   ],
   "source": [
    "#Cell 8 \n",
    "with warnings.catch_warnings():\n",
    "    warnings.simplefilter(\"ignore\")\n",
    "    filtering_repair = combined_xls[(combined_xls['OperationName'] == 'Repair') & (~combined_xls['LaborCode'].isin(['209A', '202A', '23A', '23N', '92A', '92H', '93A', '13A', '137C', '137D', '137E', '137F', '137I']))]\n",
    "\n",
    "    groupping_repair = filtering_repair.groupby(['ModelFamily', 'ModelNo', 'LaborCode'])\n",
    "\n",
    "    repair_checks = pd.DataFrame(columns=['Family', 'Model', 'LaborCode', '1', '2', '3', '4', '5', '6', '7'])\n",
    "\n",
    "    for group_key, group_repair in groupping_repair:\n",
    "    #     print(\"Group Key:\", group_key)\n",
    "    #     print(group_repair)\n",
    "    #     print()\n",
    "\n",
    "        model_number = get_model(group_key[1])\n",
    "\n",
    "        missing_chapters = get_chapters(model_number, repair_all, group_repair)\n",
    "\n",
    "        together = [group_key[0]] + [group_key[1]] + [group_key[2]] + missing_chapters\n",
    "        repair_checks = repair_checks.append(pd.Series(together, index=repair_checks.columns), ignore_index=True)\n",
    "\n",
    "    print(f'finished')"
   ]
  },
  {
   "cell_type": "code",
   "execution_count": 7,
   "id": "e8c6bc0d",
   "metadata": {},
   "outputs": [
    {
     "name": "stdout",
     "output_type": "stream",
     "text": [
      "finished\n"
     ]
    }
   ],
   "source": [
    "#cell 6\n",
    "with warnings.catch_warnings():\n",
    "    warnings.simplefilter(\"ignore\")\n",
    "    filtering_repair = combined_xls[(combined_xls['OperationName'] == 'Repair') & (combined_xls['LaborCode'].isin(['05A','116A','14A','16B','16G','20A','213A','217A','38A','80A','81A','82A','83A','83B','83C','84A','85A','86A','88A']))]\n",
    "\n",
    "    groupping_repair = filtering_repair.groupby(['ModelFamily', 'ModelNo', 'LaborCode'])\n",
    "\n",
    "    repair_checks_cell6 = pd.DataFrame(columns=['Family', 'Model', 'LaborCode', '1', '2', '3', '4', '5', '6', '7'])\n",
    "\n",
    "    for group_key, group_repair in groupping_repair:\n",
    "\n",
    "        model_number = get_model(group_key[1])\n",
    "\n",
    "        missing_chapters = get_chapters(model_number, repair_cell, group_repair)\n",
    "\n",
    "        together = [group_key[0]] + [group_key[1]] + [group_key[2]] + missing_chapters\n",
    "        repair_checks_cell6 = repair_checks_cell6.append(pd.Series(together, index=repair_checks.columns), ignore_index=True)\n",
    "\n",
    "    print(f'finished')"
   ]
  },
  {
   "cell_type": "code",
   "execution_count": 8,
   "id": "b66764a8",
   "metadata": {},
   "outputs": [
    {
     "name": "stdout",
     "output_type": "stream",
     "text": [
      "finished\n"
     ]
    }
   ],
   "source": [
    "repair_final = pd.merge(repair_checks, repair_checks_cell6, on=['Family', 'Model', 'LaborCode'], how='outer', indicator=True)\n",
    "\n",
    "output_file_path = 'C:/Users/htet.ma\\\\Downloads\\\\repair_final.xlsx'\n",
    "repair_final.to_excel(output_file_path, index=False)\n",
    "\n",
    "print(f'finished')"
   ]
  },
  {
   "cell_type": "code",
   "execution_count": 29,
   "id": "744911b7",
   "metadata": {},
   "outputs": [],
   "source": [
    "def get_refurb_model(model_name):\n",
    "    if '-' in model_name:\n",
    "        split = model_name.split('-')\n",
    "        return split[0]\n",
    "    else:\n",
    "        return model_name"
   ]
  },
  {
   "cell_type": "code",
   "execution_count": 43,
   "id": "0c517606",
   "metadata": {},
   "outputs": [
    {
     "name": "stdout",
     "output_type": "stream",
     "text": [
      "finished\n"
     ]
    }
   ],
   "source": [
    "#Refurbishment Operations\n",
    "with warnings.catch_warnings():\n",
    "    warnings.simplefilter(\"ignore\")\n",
    "    \n",
    "    filtered_refurb = combined_xls[(combined_xls['OperationName'] == 'Assembly') & (combined_xls['LaborCode'].isin(['28A', '28D', '28F']))]\n",
    "\n",
    "    groupping_refurb = filtered_refurb.groupby(['ModelFamily', 'ModelNo', 'LaborCode'])\n",
    "\n",
    "    refurb_checks = pd.DataFrame(columns=['Family', 'Model', 'LaborCode', '1', '2', '3', '4', '5', '6', '7', '8', '9', '10', '11'])\n",
    "\n",
    "    for group_key, group_repair in groupping_refurb:\n",
    "    #     print(\"Group Key:\", group_key)\n",
    "    #     print(group_repair)\n",
    "    #     print()\n",
    "\n",
    "        model_number = get_refurb_model(group_key[1])\n",
    "\n",
    "        missing_chapters = get_chapters(model_number, refurb, group_repair)\n",
    "\n",
    "        together = [group_key[0]] + [group_key[1]] + [group_key[2]] + missing_chapters\n",
    "        refurb_checks = refurb_checks.append(pd.Series(together, index=refurb_checks.columns), ignore_index=True)\n",
    "\n",
    "    print(f'finished')"
   ]
  },
  {
   "cell_type": "code",
   "execution_count": 44,
   "id": "3b98f75c",
   "metadata": {},
   "outputs": [
    {
     "name": "stdout",
     "output_type": "stream",
     "text": [
      "finished\n"
     ]
    }
   ],
   "source": [
    "output_file_path = 'C:/Users/htet.ma\\\\Downloads\\\\refurb_final.xlsx'\n",
    "refurb_checks.to_excel(output_file_path, index=False)\n",
    "\n",
    "print(f'finished')"
   ]
  }
 ],
 "metadata": {
  "kernelspec": {
   "display_name": "Python 3 (ipykernel)",
   "language": "python",
   "name": "python3"
  },
  "language_info": {
   "codemirror_mode": {
    "name": "ipython",
    "version": 3
   },
   "file_extension": ".py",
   "mimetype": "text/x-python",
   "name": "python",
   "nbconvert_exporter": "python",
   "pygments_lexer": "ipython3",
   "version": "3.9.12"
  }
 },
 "nbformat": 4,
 "nbformat_minor": 5
}
