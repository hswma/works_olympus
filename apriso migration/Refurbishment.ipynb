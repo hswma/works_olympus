{
 "cells": [
  {
   "cell_type": "code",
   "execution_count": 9,
   "id": "67bdde63",
   "metadata": {},
   "outputs": [],
   "source": [
    "import pandas as pd\n",
    "import os\n",
    "import re\n",
    "import warnings"
   ]
  },
  {
   "cell_type": "code",
   "execution_count": 10,
   "id": "51f3bba8",
   "metadata": {},
   "outputs": [
    {
     "name": "stdout",
     "output_type": "stream",
     "text": [
      "finished\n"
     ]
    }
   ],
   "source": [
    "file_path = 'C:/Users/htet.ma\\\\Downloads\\\\Assembly Inspected'\n",
    "file_names = os.listdir(file_path)\n",
    "\n",
    "# all_sheets = {}\n",
    "all_sheets_xls = []\n",
    "\n",
    "for name in file_names:\n",
    "    first_sheet = pd.read_excel(file_path + \"\\\\\" + str(name), sheet_name=0, header=0, skiprows=[1])\n",
    "    # csv_filename = os.path.splitext(name)[0] + '.csv'  # Create the corresponding CSV filename\n",
    "    # first_sheet.to_csv(csv_filename, index=False)  # Save the sheet as a CSV file\n",
    "    all_sheets_xls.append(first_sheet)\n",
    "#     all_sheets[name] = first_sheet\n",
    "\n",
    "combined_xls = pd.concat(all_sheets_xls, ignore_index=True)\n",
    "\n",
    "print(f'finished')"
   ]
  },
  {
   "cell_type": "code",
   "execution_count": 11,
   "id": "56497fac",
   "metadata": {},
   "outputs": [
    {
     "name": "stdout",
     "output_type": "stream",
     "text": [
      "finished\n"
     ]
    }
   ],
   "source": [
    "# Dictionary\n",
    "\n",
    "# exception: GIF-N180 and GIF-XP180N\n",
    "\n",
    "# Refurbishment\n",
    "refurb = {'TJF': ['509A.21', '513E.01', '509A.26', '508I.52', '502H.14', '508I.44', '509A.14', '508I.53', '513A.01', '509A.18', '3000R.29', '509A.17'],\n",
    "          'PJF': ['509A.21', '513E.01', '509A.26', '508I.52', '502H.14', '508I.44', '509A.14', '508I.53', '513A.01', '509A.18', '3000R.29', '509A.17'],\n",
    "          'JF': ['509A.21', '513E.01', '509A.26', '508I.52', '502H.14', '508I.44', '509A.14', '508I.53', '513A.01', '509A.18', '3000R.29', '509A.17'],\n",
    "          'GF': ['509A.21', '513E.01', '509A.26', '508I.52', '502H.14', '508I.44', '509A.14', '508I.53', '513A.01', '509A.18', '3000R.29', '509A.17'],\n",
    "          'Everything': ['509A.21', '513E.01', '509A.26', '508I.52', '502H.14', '508I.44', '509A.14', '508I.53', '513A.01', '509A.18', '3000R.29', 'N/A']}\n",
    "\n",
    "upd_check = {'CF-Q160DL': ['501K.04'], 'CF-Q160DI': ['501K.04'], 'CF-H180DL': ['501K.04'], 'CF-H180DI': ['501K.04'], \n",
    "             'CF-HQ190L': ['501K.04'], 'CF-HQ190I': ['501K.04'], 'CF-HQ1100DL': ['501K.04'], 'CF-HQ1100DI': ['501K.04'],\n",
    "             'CF-EZ1500DL': ['501K.04'], 'CF-EZ1500DI': ['501K.04'], 'PCF-H190DL': ['501K.04'], 'PCF-H190DI': ['501K.04'], \n",
    "             'Everything': ['N/A']}\n",
    "\n",
    "print(f'finished')"
   ]
  },
  {
   "cell_type": "code",
   "execution_count": 12,
   "id": "734878ca",
   "metadata": {},
   "outputs": [],
   "source": [
    "def get_chapters(model_generation, dictionary_group, group_repair):\n",
    "    chapters = []\n",
    "    \n",
    "    if model_generation in dictionary_group.keys():\n",
    "        for value in dictionary_group[model_generation]:\n",
    "            if value in group_repair['Work Instruction Document Number '].values:\n",
    "                chapters.append(0)\n",
    "            else:\n",
    "                chapters.append(value)\n",
    "    else:\n",
    "        for value in dictionary_group['Everything']:\n",
    "            if value in group_repair['Work Instruction Document Number '].values:\n",
    "                chapters.append(0)\n",
    "            else:\n",
    "                chapters.append(value)\n",
    "            \n",
    "    return chapters"
   ]
  },
  {
   "cell_type": "code",
   "execution_count": 13,
   "id": "ba06fbcb",
   "metadata": {},
   "outputs": [],
   "source": [
    "def get_model(model_name, method):\n",
    "    if method == 'type': #GIF, CF, etc.\n",
    "        if '-' in model_name:\n",
    "            split = model_name.split('-')\n",
    "            return split[0]\n",
    "        else:\n",
    "            return model_name\n",
    "    elif method == 'generation': # 170, 190\n",
    "        for index, char in enumerate(model_name):\n",
    "            if char == '-':\n",
    "                split = model_name.split('-')\n",
    "                split_num = re.findall(r'\\d+', split[1])\n",
    "                if split_num:\n",
    "                    return split_num[0]\n",
    "                else:\n",
    "                    return split[1]\n",
    "    elif method == 'entire model': #GIF-H190DL\n",
    "        return model_name\n",
    "    else:\n",
    "        return print('Method is not written')"
   ]
  },
  {
   "cell_type": "code",
   "execution_count": 14,
   "id": "97cdff82",
   "metadata": {},
   "outputs": [
    {
     "name": "stdout",
     "output_type": "stream",
     "text": [
      "finished\n"
     ]
    }
   ],
   "source": [
    "#Refurb\n",
    "with warnings.catch_warnings():\n",
    "    warnings.simplefilter(\"ignore\")\n",
    "    filtering = combined_xls[(combined_xls['OperationName'] == 'Assembly') & (combined_xls['LaborCode'].isin(['28A', '28D', '28F']))]\n",
    "\n",
    "    groupping = filtering.groupby(['ModelFamily', 'ModelNo', 'LaborCode'])\n",
    "\n",
    "    repair_checks = pd.DataFrame(columns=['Family', 'Model', 'LaborCode', '1', '2', '3', '4', '5', '6', '7', '8', '9', '10', '11', '12'])\n",
    "\n",
    "    for group_key, group_repair in groupping:\n",
    "    #     print(\"Group Key:\", group_key)\n",
    "    #     print(group_repair)\n",
    "    #     print()\n",
    "\n",
    "        model_number = get_model(group_key[1], 'type')\n",
    "\n",
    "        missing_chapters = get_chapters(model_number, refurb, group_repair)\n",
    "\n",
    "        together = [group_key[0]] + [group_key[1]] + [group_key[2]] + missing_chapters\n",
    "        repair_checks = repair_checks.append(pd.Series(together, index=repair_checks.columns), ignore_index=True)\n",
    "\n",
    "    print(f'finished')"
   ]
  },
  {
   "cell_type": "code",
   "execution_count": 15,
   "id": "e8c6bc0d",
   "metadata": {},
   "outputs": [
    {
     "name": "stdout",
     "output_type": "stream",
     "text": [
      "finished\n"
     ]
    }
   ],
   "source": [
    "#UPD\n",
    "with warnings.catch_warnings():\n",
    "    warnings.simplefilter(\"ignore\")\n",
    "    filtering = combined_xls[(combined_xls['OperationName'] == 'Assembly') & (combined_xls['LaborCode'].isin(['28A', '28D', '28F']))]\n",
    "\n",
    "    groupping = filtering.groupby(['ModelFamily', 'ModelNo', 'LaborCode'])\n",
    "\n",
    "    upd_checks = pd.DataFrame(columns=['Family', 'Model', 'LaborCode', '1'])\n",
    "\n",
    "    for group_key, group_repair in groupping:\n",
    "\n",
    "        model_number = get_model(group_key[1], 'entire model')\n",
    "\n",
    "        missing_chapters = get_chapters(model_number, upd_check, group_repair)\n",
    "\n",
    "        together = [group_key[0]] + [group_key[1]] + [group_key[2]] + missing_chapters\n",
    "        upd_checks = upd_checks.append(pd.Series(together, index=upd_checks.columns), ignore_index=True)\n",
    "\n",
    "    print(f'finished')"
   ]
  },
  {
   "cell_type": "code",
   "execution_count": 16,
   "id": "b66764a8",
   "metadata": {},
   "outputs": [
    {
     "name": "stdout",
     "output_type": "stream",
     "text": [
      "finished\n"
     ]
    }
   ],
   "source": [
    "repair_final = pd.merge(repair_checks, upd_checks, on=['Family', 'Model', 'LaborCode'], how='outer', indicator=True)\n",
    "\n",
    "output_file_path = 'C:/Users/htet.ma\\\\Downloads\\\\refurbishment_final.xlsx'\n",
    "repair_final.to_excel(output_file_path, index=False)\n",
    "\n",
    "print(f'finished')"
   ]
  },
  {
   "cell_type": "code",
   "execution_count": null,
   "id": "d731e98e",
   "metadata": {},
   "outputs": [],
   "source": []
  }
 ],
 "metadata": {
  "kernelspec": {
   "display_name": "Python 3 (ipykernel)",
   "language": "python",
   "name": "python3"
  },
  "language_info": {
   "codemirror_mode": {
    "name": "ipython",
    "version": 3
   },
   "file_extension": ".py",
   "mimetype": "text/x-python",
   "name": "python",
   "nbconvert_exporter": "python",
   "pygments_lexer": "ipython3",
   "version": "3.9.12"
  }
 },
 "nbformat": 4,
 "nbformat_minor": 5
}
